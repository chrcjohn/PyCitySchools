{
  "metadata": {
    "anaconda-cloud": {},
    "kernel_info": {
      "name": "python3"
    },
    "kernelspec": {
      "name": "python",
      "display_name": "Python (Pyodide)",
      "language": "python"
    },
    "language_info": {
      "codemirror_mode": {
        "name": "python",
        "version": 3
      },
      "file_extension": ".py",
      "mimetype": "text/x-python",
      "name": "python",
      "nbconvert_exporter": "python",
      "pygments_lexer": "ipython3",
      "version": "3.8"
    },
    "nteract": {
      "version": "0.8.4"
    }
  },
  "nbformat_minor": 4,
  "nbformat": 4,
  "cells": [
    {
      "cell_type": "code",
      "source": "# Dependencies and Setup\nimport pandas as pd\n\n# File to Load (Remember to change the path if needed.)\nschool_data_to_load = \"Resources/schools_complete.csv\"\nstudent_data_to_load = \"Resources/students_complete.csv\"\n\n# Read the School Data and Student Data and store into a Pandas DataFrame\nschool_data_df = pd.read_csv(school_data_to_load)\nstudent_data_df = pd.read_csv(student_data_to_load)\n\n# Cleaning Student Names and Replacing Substrings in a Python String\n# Add each prefix and suffix to remove to a list.\nprefixes_suffixes = [\"Dr. \", \"Mr. \",\"Ms. \", \"Mrs. \", \"Miss \", \" MD\", \" DDS\", \" DVM\", \" PhD\"]\n\n# Iterate through the words in the \"prefixes_suffixes\" list and replace them with an empty space, \"\".\nfor word in prefixes_suffixes:\n    student_data_df[\"student_name\"] = student_data_df[\"student_name\"].str.replace(word,\"\")\n\n# Check names.\nstudent_data_df.head(10)",
      "metadata": {
        "trusted": true
      },
      "execution_count": null,
      "outputs": [
        {
          "ename": "<class 'FileNotFoundError'>",
          "evalue": "[Errno 44] No such file or directory: 'Resources/schools_complete.csv'",
          "traceback": [
            "\u001b[0;31m---------------------------------------------------------------------------\u001b[0m",
            "\u001b[0;31mFileNotFoundError\u001b[0m                         Traceback (most recent call last)",
            "Input \u001b[0;32mIn [10]\u001b[0m, in \u001b[0;36m<cell line: 9>\u001b[0;34m()\u001b[0m\n\u001b[1;32m      6\u001b[0m student_data_to_load \u001b[38;5;241m=\u001b[39m \u001b[38;5;124m\"\u001b[39m\u001b[38;5;124mResources/students_complete.csv\u001b[39m\u001b[38;5;124m\"\u001b[39m\n\u001b[1;32m      8\u001b[0m \u001b[38;5;66;03m# Read the School Data and Student Data and store into a Pandas DataFrame\u001b[39;00m\n\u001b[0;32m----> 9\u001b[0m school_data_df \u001b[38;5;241m=\u001b[39m \u001b[43mpd\u001b[49m\u001b[38;5;241;43m.\u001b[39;49m\u001b[43mread_csv\u001b[49m\u001b[43m(\u001b[49m\u001b[43mschool_data_to_load\u001b[49m\u001b[43m)\u001b[49m\n\u001b[1;32m     10\u001b[0m student_data_df \u001b[38;5;241m=\u001b[39m pd\u001b[38;5;241m.\u001b[39mread_csv(student_data_to_load)\n\u001b[1;32m     12\u001b[0m \u001b[38;5;66;03m# Cleaning Student Names and Replacing Substrings in a Python String\u001b[39;00m\n\u001b[1;32m     13\u001b[0m \u001b[38;5;66;03m# Add each prefix and suffix to remove to a list.\u001b[39;00m\n",
            "File \u001b[0;32m/lib/python3.10/site-packages/pandas/util/_decorators.py:311\u001b[0m, in \u001b[0;36mdeprecate_nonkeyword_arguments.<locals>.decorate.<locals>.wrapper\u001b[0;34m(*args, **kwargs)\u001b[0m\n\u001b[1;32m    305\u001b[0m \u001b[38;5;28;01mif\u001b[39;00m \u001b[38;5;28mlen\u001b[39m(args) \u001b[38;5;241m>\u001b[39m num_allow_args:\n\u001b[1;32m    306\u001b[0m     warnings\u001b[38;5;241m.\u001b[39mwarn(\n\u001b[1;32m    307\u001b[0m         msg\u001b[38;5;241m.\u001b[39mformat(arguments\u001b[38;5;241m=\u001b[39marguments),\n\u001b[1;32m    308\u001b[0m         \u001b[38;5;167;01mFutureWarning\u001b[39;00m,\n\u001b[1;32m    309\u001b[0m         stacklevel\u001b[38;5;241m=\u001b[39mstacklevel,\n\u001b[1;32m    310\u001b[0m     )\n\u001b[0;32m--> 311\u001b[0m \u001b[38;5;28;01mreturn\u001b[39;00m func(\u001b[38;5;241m*\u001b[39margs, \u001b[38;5;241m*\u001b[39m\u001b[38;5;241m*\u001b[39mkwargs)\n",
            "File \u001b[0;32m/lib/python3.10/site-packages/pandas/io/parsers/readers.py:680\u001b[0m, in \u001b[0;36mread_csv\u001b[0;34m(filepath_or_buffer, sep, delimiter, header, names, index_col, usecols, squeeze, prefix, mangle_dupe_cols, dtype, engine, converters, true_values, false_values, skipinitialspace, skiprows, skipfooter, nrows, na_values, keep_default_na, na_filter, verbose, skip_blank_lines, parse_dates, infer_datetime_format, keep_date_col, date_parser, dayfirst, cache_dates, iterator, chunksize, compression, thousands, decimal, lineterminator, quotechar, quoting, doublequote, escapechar, comment, encoding, encoding_errors, dialect, error_bad_lines, warn_bad_lines, on_bad_lines, delim_whitespace, low_memory, memory_map, float_precision, storage_options)\u001b[0m\n\u001b[1;32m    665\u001b[0m kwds_defaults \u001b[38;5;241m=\u001b[39m _refine_defaults_read(\n\u001b[1;32m    666\u001b[0m     dialect,\n\u001b[1;32m    667\u001b[0m     delimiter,\n\u001b[0;32m   (...)\u001b[0m\n\u001b[1;32m    676\u001b[0m     defaults\u001b[38;5;241m=\u001b[39m{\u001b[38;5;124m\"\u001b[39m\u001b[38;5;124mdelimiter\u001b[39m\u001b[38;5;124m\"\u001b[39m: \u001b[38;5;124m\"\u001b[39m\u001b[38;5;124m,\u001b[39m\u001b[38;5;124m\"\u001b[39m},\n\u001b[1;32m    677\u001b[0m )\n\u001b[1;32m    678\u001b[0m kwds\u001b[38;5;241m.\u001b[39mupdate(kwds_defaults)\n\u001b[0;32m--> 680\u001b[0m \u001b[38;5;28;01mreturn\u001b[39;00m \u001b[43m_read\u001b[49m\u001b[43m(\u001b[49m\u001b[43mfilepath_or_buffer\u001b[49m\u001b[43m,\u001b[49m\u001b[43m \u001b[49m\u001b[43mkwds\u001b[49m\u001b[43m)\u001b[49m\n",
            "File \u001b[0;32m/lib/python3.10/site-packages/pandas/io/parsers/readers.py:575\u001b[0m, in \u001b[0;36m_read\u001b[0;34m(filepath_or_buffer, kwds)\u001b[0m\n\u001b[1;32m    572\u001b[0m _validate_names(kwds\u001b[38;5;241m.\u001b[39mget(\u001b[38;5;124m\"\u001b[39m\u001b[38;5;124mnames\u001b[39m\u001b[38;5;124m\"\u001b[39m, \u001b[38;5;28;01mNone\u001b[39;00m))\n\u001b[1;32m    574\u001b[0m \u001b[38;5;66;03m# Create the parser.\u001b[39;00m\n\u001b[0;32m--> 575\u001b[0m parser \u001b[38;5;241m=\u001b[39m TextFileReader(filepath_or_buffer, \u001b[38;5;241m*\u001b[39m\u001b[38;5;241m*\u001b[39mkwds)\n\u001b[1;32m    577\u001b[0m \u001b[38;5;28;01mif\u001b[39;00m chunksize \u001b[38;5;129;01mor\u001b[39;00m iterator:\n\u001b[1;32m    578\u001b[0m     \u001b[38;5;28;01mreturn\u001b[39;00m parser\n",
            "File \u001b[0;32m/lib/python3.10/site-packages/pandas/io/parsers/readers.py:933\u001b[0m, in \u001b[0;36mTextFileReader.__init__\u001b[0;34m(self, f, engine, **kwds)\u001b[0m\n\u001b[1;32m    930\u001b[0m     \u001b[38;5;28mself\u001b[39m\u001b[38;5;241m.\u001b[39moptions[\u001b[38;5;124m\"\u001b[39m\u001b[38;5;124mhas_index_names\u001b[39m\u001b[38;5;124m\"\u001b[39m] \u001b[38;5;241m=\u001b[39m kwds[\u001b[38;5;124m\"\u001b[39m\u001b[38;5;124mhas_index_names\u001b[39m\u001b[38;5;124m\"\u001b[39m]\n\u001b[1;32m    932\u001b[0m \u001b[38;5;28mself\u001b[39m\u001b[38;5;241m.\u001b[39mhandles: IOHandles \u001b[38;5;241m|\u001b[39m \u001b[38;5;28;01mNone\u001b[39;00m \u001b[38;5;241m=\u001b[39m \u001b[38;5;28;01mNone\u001b[39;00m\n\u001b[0;32m--> 933\u001b[0m \u001b[38;5;28mself\u001b[39m\u001b[38;5;241m.\u001b[39m_engine \u001b[38;5;241m=\u001b[39m \u001b[38;5;28;43mself\u001b[39;49m\u001b[38;5;241;43m.\u001b[39;49m\u001b[43m_make_engine\u001b[49m\u001b[43m(\u001b[49m\u001b[43mf\u001b[49m\u001b[43m,\u001b[49m\u001b[43m \u001b[49m\u001b[38;5;28;43mself\u001b[39;49m\u001b[38;5;241;43m.\u001b[39;49m\u001b[43mengine\u001b[49m\u001b[43m)\u001b[49m\n",
            "File \u001b[0;32m/lib/python3.10/site-packages/pandas/io/parsers/readers.py:1217\u001b[0m, in \u001b[0;36mTextFileReader._make_engine\u001b[0;34m(self, f, engine)\u001b[0m\n\u001b[1;32m   1213\u001b[0m     mode \u001b[38;5;241m=\u001b[39m \u001b[38;5;124m\"\u001b[39m\u001b[38;5;124mrb\u001b[39m\u001b[38;5;124m\"\u001b[39m\n\u001b[1;32m   1214\u001b[0m \u001b[38;5;66;03m# error: No overload variant of \"get_handle\" matches argument types\u001b[39;00m\n\u001b[1;32m   1215\u001b[0m \u001b[38;5;66;03m# \"Union[str, PathLike[str], ReadCsvBuffer[bytes], ReadCsvBuffer[str]]\"\u001b[39;00m\n\u001b[1;32m   1216\u001b[0m \u001b[38;5;66;03m# , \"str\", \"bool\", \"Any\", \"Any\", \"Any\", \"Any\", \"Any\"\u001b[39;00m\n\u001b[0;32m-> 1217\u001b[0m \u001b[38;5;28mself\u001b[39m\u001b[38;5;241m.\u001b[39mhandles \u001b[38;5;241m=\u001b[39m \u001b[43mget_handle\u001b[49m\u001b[43m(\u001b[49m\u001b[43m  \u001b[49m\u001b[38;5;66;43;03m# type: ignore[call-overload]\u001b[39;49;00m\n\u001b[1;32m   1218\u001b[0m \u001b[43m    \u001b[49m\u001b[43mf\u001b[49m\u001b[43m,\u001b[49m\n\u001b[1;32m   1219\u001b[0m \u001b[43m    \u001b[49m\u001b[43mmode\u001b[49m\u001b[43m,\u001b[49m\n\u001b[1;32m   1220\u001b[0m \u001b[43m    \u001b[49m\u001b[43mencoding\u001b[49m\u001b[38;5;241;43m=\u001b[39;49m\u001b[38;5;28;43mself\u001b[39;49m\u001b[38;5;241;43m.\u001b[39;49m\u001b[43moptions\u001b[49m\u001b[38;5;241;43m.\u001b[39;49m\u001b[43mget\u001b[49m\u001b[43m(\u001b[49m\u001b[38;5;124;43m\"\u001b[39;49m\u001b[38;5;124;43mencoding\u001b[39;49m\u001b[38;5;124;43m\"\u001b[39;49m\u001b[43m,\u001b[49m\u001b[43m \u001b[49m\u001b[38;5;28;43;01mNone\u001b[39;49;00m\u001b[43m)\u001b[49m\u001b[43m,\u001b[49m\n\u001b[1;32m   1221\u001b[0m \u001b[43m    \u001b[49m\u001b[43mcompression\u001b[49m\u001b[38;5;241;43m=\u001b[39;49m\u001b[38;5;28;43mself\u001b[39;49m\u001b[38;5;241;43m.\u001b[39;49m\u001b[43moptions\u001b[49m\u001b[38;5;241;43m.\u001b[39;49m\u001b[43mget\u001b[49m\u001b[43m(\u001b[49m\u001b[38;5;124;43m\"\u001b[39;49m\u001b[38;5;124;43mcompression\u001b[39;49m\u001b[38;5;124;43m\"\u001b[39;49m\u001b[43m,\u001b[49m\u001b[43m \u001b[49m\u001b[38;5;28;43;01mNone\u001b[39;49;00m\u001b[43m)\u001b[49m\u001b[43m,\u001b[49m\n\u001b[1;32m   1222\u001b[0m \u001b[43m    \u001b[49m\u001b[43mmemory_map\u001b[49m\u001b[38;5;241;43m=\u001b[39;49m\u001b[38;5;28;43mself\u001b[39;49m\u001b[38;5;241;43m.\u001b[39;49m\u001b[43moptions\u001b[49m\u001b[38;5;241;43m.\u001b[39;49m\u001b[43mget\u001b[49m\u001b[43m(\u001b[49m\u001b[38;5;124;43m\"\u001b[39;49m\u001b[38;5;124;43mmemory_map\u001b[39;49m\u001b[38;5;124;43m\"\u001b[39;49m\u001b[43m,\u001b[49m\u001b[43m \u001b[49m\u001b[38;5;28;43;01mFalse\u001b[39;49;00m\u001b[43m)\u001b[49m\u001b[43m,\u001b[49m\n\u001b[1;32m   1223\u001b[0m \u001b[43m    \u001b[49m\u001b[43mis_text\u001b[49m\u001b[38;5;241;43m=\u001b[39;49m\u001b[43mis_text\u001b[49m\u001b[43m,\u001b[49m\n\u001b[1;32m   1224\u001b[0m \u001b[43m    \u001b[49m\u001b[43merrors\u001b[49m\u001b[38;5;241;43m=\u001b[39;49m\u001b[38;5;28;43mself\u001b[39;49m\u001b[38;5;241;43m.\u001b[39;49m\u001b[43moptions\u001b[49m\u001b[38;5;241;43m.\u001b[39;49m\u001b[43mget\u001b[49m\u001b[43m(\u001b[49m\u001b[38;5;124;43m\"\u001b[39;49m\u001b[38;5;124;43mencoding_errors\u001b[39;49m\u001b[38;5;124;43m\"\u001b[39;49m\u001b[43m,\u001b[49m\u001b[43m \u001b[49m\u001b[38;5;124;43m\"\u001b[39;49m\u001b[38;5;124;43mstrict\u001b[39;49m\u001b[38;5;124;43m\"\u001b[39;49m\u001b[43m)\u001b[49m\u001b[43m,\u001b[49m\n\u001b[1;32m   1225\u001b[0m \u001b[43m    \u001b[49m\u001b[43mstorage_options\u001b[49m\u001b[38;5;241;43m=\u001b[39;49m\u001b[38;5;28;43mself\u001b[39;49m\u001b[38;5;241;43m.\u001b[39;49m\u001b[43moptions\u001b[49m\u001b[38;5;241;43m.\u001b[39;49m\u001b[43mget\u001b[49m\u001b[43m(\u001b[49m\u001b[38;5;124;43m\"\u001b[39;49m\u001b[38;5;124;43mstorage_options\u001b[39;49m\u001b[38;5;124;43m\"\u001b[39;49m\u001b[43m,\u001b[49m\u001b[43m \u001b[49m\u001b[38;5;28;43;01mNone\u001b[39;49;00m\u001b[43m)\u001b[49m\u001b[43m,\u001b[49m\n\u001b[1;32m   1226\u001b[0m \u001b[43m\u001b[49m\u001b[43m)\u001b[49m\n\u001b[1;32m   1227\u001b[0m \u001b[38;5;28;01massert\u001b[39;00m \u001b[38;5;28mself\u001b[39m\u001b[38;5;241m.\u001b[39mhandles \u001b[38;5;129;01mis\u001b[39;00m \u001b[38;5;129;01mnot\u001b[39;00m \u001b[38;5;28;01mNone\u001b[39;00m\n\u001b[1;32m   1228\u001b[0m f \u001b[38;5;241m=\u001b[39m \u001b[38;5;28mself\u001b[39m\u001b[38;5;241m.\u001b[39mhandles\u001b[38;5;241m.\u001b[39mhandle\n",
            "File \u001b[0;32m/lib/python3.10/site-packages/pandas/io/common.py:789\u001b[0m, in \u001b[0;36mget_handle\u001b[0;34m(path_or_buf, mode, encoding, compression, memory_map, is_text, errors, storage_options)\u001b[0m\n\u001b[1;32m    784\u001b[0m \u001b[38;5;28;01melif\u001b[39;00m \u001b[38;5;28misinstance\u001b[39m(handle, \u001b[38;5;28mstr\u001b[39m):\n\u001b[1;32m    785\u001b[0m     \u001b[38;5;66;03m# Check whether the filename is to be opened in binary mode.\u001b[39;00m\n\u001b[1;32m    786\u001b[0m     \u001b[38;5;66;03m# Binary mode does not support 'encoding' and 'newline'.\u001b[39;00m\n\u001b[1;32m    787\u001b[0m     \u001b[38;5;28;01mif\u001b[39;00m ioargs\u001b[38;5;241m.\u001b[39mencoding \u001b[38;5;129;01mand\u001b[39;00m \u001b[38;5;124m\"\u001b[39m\u001b[38;5;124mb\u001b[39m\u001b[38;5;124m\"\u001b[39m \u001b[38;5;129;01mnot\u001b[39;00m \u001b[38;5;129;01min\u001b[39;00m ioargs\u001b[38;5;241m.\u001b[39mmode:\n\u001b[1;32m    788\u001b[0m         \u001b[38;5;66;03m# Encoding\u001b[39;00m\n\u001b[0;32m--> 789\u001b[0m         handle \u001b[38;5;241m=\u001b[39m \u001b[38;5;28;43mopen\u001b[39;49m\u001b[43m(\u001b[49m\n\u001b[1;32m    790\u001b[0m \u001b[43m            \u001b[49m\u001b[43mhandle\u001b[49m\u001b[43m,\u001b[49m\n\u001b[1;32m    791\u001b[0m \u001b[43m            \u001b[49m\u001b[43mioargs\u001b[49m\u001b[38;5;241;43m.\u001b[39;49m\u001b[43mmode\u001b[49m\u001b[43m,\u001b[49m\n\u001b[1;32m    792\u001b[0m \u001b[43m            \u001b[49m\u001b[43mencoding\u001b[49m\u001b[38;5;241;43m=\u001b[39;49m\u001b[43mioargs\u001b[49m\u001b[38;5;241;43m.\u001b[39;49m\u001b[43mencoding\u001b[49m\u001b[43m,\u001b[49m\n\u001b[1;32m    793\u001b[0m \u001b[43m            \u001b[49m\u001b[43merrors\u001b[49m\u001b[38;5;241;43m=\u001b[39;49m\u001b[43merrors\u001b[49m\u001b[43m,\u001b[49m\n\u001b[1;32m    794\u001b[0m \u001b[43m            \u001b[49m\u001b[43mnewline\u001b[49m\u001b[38;5;241;43m=\u001b[39;49m\u001b[38;5;124;43m\"\u001b[39;49m\u001b[38;5;124;43m\"\u001b[39;49m\u001b[43m,\u001b[49m\n\u001b[1;32m    795\u001b[0m \u001b[43m        \u001b[49m\u001b[43m)\u001b[49m\n\u001b[1;32m    796\u001b[0m     \u001b[38;5;28;01melse\u001b[39;00m:\n\u001b[1;32m    797\u001b[0m         \u001b[38;5;66;03m# Binary mode\u001b[39;00m\n\u001b[1;32m    798\u001b[0m         handle \u001b[38;5;241m=\u001b[39m \u001b[38;5;28mopen\u001b[39m(handle, ioargs\u001b[38;5;241m.\u001b[39mmode)\n",
            "\u001b[0;31mFileNotFoundError\u001b[0m: [Errno 44] No such file or directory: 'Resources/schools_complete.csv'"
          ],
          "output_type": "error"
        }
      ]
    },
    {
      "cell_type": "markdown",
      "source": "## Deliverable 1: Replace the reading and math scores.\n\n### Replace the 9th grade reading and math scores at Thomas High School with NaN.",
      "metadata": {}
    },
    {
      "cell_type": "code",
      "source": "# Install numpy using conda install numpy or pip install numpy. \n# Step 1. Import numpy as np.\nimport numpy as np",
      "metadata": {
        "trusted": true
      },
      "execution_count": 7,
      "outputs": []
    },
    {
      "cell_type": "code",
      "source": "# Step 2. Use the loc method on the student_data_df to select all the reading scores from the 9th grade at Thomas High School and replace them with NaN.\nstudent_data_df.loc[(student_data_df[\"grade\"]==\"9th\")&(student_data_df[\"school_name\"]==\"Thomas High School\"),[\"reading_score\"]]=np.nan\n",
      "metadata": {},
      "execution_count": 3,
      "outputs": []
    },
    {
      "cell_type": "code",
      "source": "#  Step 3. Refactor the code in Step 2 to replace the math scores with NaN.\nstudent_data_df.loc[(student_data_df[\"grade\"]==\"9th\")&(student_data_df[\"school_name\"]==\"Thomas High School\"),[\"math_score\"]]=np.nan",
      "metadata": {
        "collapsed": true,
        "jupyter": {
          "outputs_hidden": true
        },
        "tags": [],
        "trusted": true
      },
      "execution_count": 9,
      "outputs": [
        {
          "ename": "<class 'NameError'>",
          "evalue": "name 'student_data_df' is not defined",
          "traceback": [
            "\u001b[0;31m---------------------------------------------------------------------------\u001b[0m",
            "\u001b[0;31mNameError\u001b[0m                                 Traceback (most recent call last)",
            "Input \u001b[0;32mIn [9]\u001b[0m, in \u001b[0;36m<cell line: 2>\u001b[0;34m()\u001b[0m\n\u001b[1;32m      1\u001b[0m \u001b[38;5;66;03m#  Step 3. Refactor the code in Step 2 to replace the math scores with NaN.\u001b[39;00m\n\u001b[0;32m----> 2\u001b[0m \u001b[43mstudent_data_df\u001b[49m\u001b[38;5;241m.\u001b[39mloc[(student_data_df[\u001b[38;5;124m\"\u001b[39m\u001b[38;5;124mgrade\u001b[39m\u001b[38;5;124m\"\u001b[39m]\u001b[38;5;241m==\u001b[39m\u001b[38;5;124m\"\u001b[39m\u001b[38;5;124m9th\u001b[39m\u001b[38;5;124m\"\u001b[39m)\u001b[38;5;241m&\u001b[39m(student_data_df[\u001b[38;5;124m\"\u001b[39m\u001b[38;5;124mschool_name\u001b[39m\u001b[38;5;124m\"\u001b[39m]\u001b[38;5;241m==\u001b[39m\u001b[38;5;124m\"\u001b[39m\u001b[38;5;124mThomas High School\u001b[39m\u001b[38;5;124m\"\u001b[39m),[\u001b[38;5;124m\"\u001b[39m\u001b[38;5;124mmath_score\u001b[39m\u001b[38;5;124m\"\u001b[39m]]\u001b[38;5;241m=\u001b[39mnp\u001b[38;5;241m.\u001b[39mnan\n",
            "\u001b[0;31mNameError\u001b[0m: name 'student_data_df' is not defined"
          ],
          "output_type": "error"
        }
      ]
    },
    {
      "cell_type": "code",
      "source": "#  Step 4. Check the student data for NaN's. \nstudent_data_df.tail(10)\n",
      "metadata": {
        "tags": [],
        "trusted": true
      },
      "execution_count": 8,
      "outputs": [
        {
          "ename": "<class 'NameError'>",
          "evalue": "name 'student_data_df' is not defined",
          "traceback": [
            "\u001b[0;31m---------------------------------------------------------------------------\u001b[0m",
            "\u001b[0;31mNameError\u001b[0m                                 Traceback (most recent call last)",
            "Input \u001b[0;32mIn [8]\u001b[0m, in \u001b[0;36m<cell line: 2>\u001b[0;34m()\u001b[0m\n\u001b[1;32m      1\u001b[0m \u001b[38;5;66;03m#  Step 4. Check the student data for NaN's. \u001b[39;00m\n\u001b[0;32m----> 2\u001b[0m \u001b[43mstudent_data_df\u001b[49m\u001b[38;5;241m.\u001b[39mtail(\u001b[38;5;241m10\u001b[39m)\n",
            "\u001b[0;31mNameError\u001b[0m: name 'student_data_df' is not defined"
          ],
          "output_type": "error"
        }
      ]
    },
    {
      "cell_type": "markdown",
      "source": "## Deliverable 2 : Repeat the school district analysis",
      "metadata": {
        "tags": []
      }
    },
    {
      "cell_type": "markdown",
      "source": "### District Summary",
      "metadata": {
        "tags": []
      }
    },
    {
      "cell_type": "code",
      "source": "# Combine the data into a single dataset\nschool_data_complete_df = pd.merge(student_data_df, school_data_df, how=\"left\", on=[\"school_name\", \"school_name\"])\nschool_data_complete_df.head()",
      "metadata": {},
      "execution_count": 6,
      "outputs": [
        {
          "execution_count": 6,
          "output_type": "execute_result",
          "data": {
            "text/html": [
              "<div>\n",
              "<style scoped>\n",
              "    .dataframe tbody tr th:only-of-type {\n",
              "        vertical-align: middle;\n",
              "    }\n",
              "\n",
              "    .dataframe tbody tr th {\n",
              "        vertical-align: top;\n",
              "    }\n",
              "\n",
              "    .dataframe thead th {\n",
              "        text-align: right;\n",
              "    }\n",
              "</style>\n",
              "<table border=\"1\" class=\"dataframe\">\n",
              "  <thead>\n",
              "    <tr style=\"text-align: right;\">\n",
              "      <th></th>\n",
              "      <th>Student ID</th>\n",
              "      <th>student_name</th>\n",
              "      <th>gender</th>\n",
              "      <th>grade</th>\n",
              "      <th>school_name</th>\n",
              "      <th>reading_score</th>\n",
              "      <th>math_score</th>\n",
              "      <th>School ID</th>\n",
              "      <th>type</th>\n",
              "      <th>size</th>\n",
              "      <th>budget</th>\n",
              "    </tr>\n",
              "  </thead>\n",
              "  <tbody>\n",
              "    <tr>\n",
              "      <th>0</th>\n",
              "      <td>0</td>\n",
              "      <td>Paul Bradley</td>\n",
              "      <td>M</td>\n",
              "      <td>9th</td>\n",
              "      <td>Huang High School</td>\n",
              "      <td>66</td>\n",
              "      <td>79</td>\n",
              "      <td>0</td>\n",
              "      <td>District</td>\n",
              "      <td>2917</td>\n",
              "      <td>1910635</td>\n",
              "    </tr>\n",
              "    <tr>\n",
              "      <th>1</th>\n",
              "      <td>1</td>\n",
              "      <td>Victor Smith</td>\n",
              "      <td>M</td>\n",
              "      <td>12th</td>\n",
              "      <td>Huang High School</td>\n",
              "      <td>94</td>\n",
              "      <td>61</td>\n",
              "      <td>0</td>\n",
              "      <td>District</td>\n",
              "      <td>2917</td>\n",
              "      <td>1910635</td>\n",
              "    </tr>\n",
              "    <tr>\n",
              "      <th>2</th>\n",
              "      <td>2</td>\n",
              "      <td>Kevin Rodriguez</td>\n",
              "      <td>M</td>\n",
              "      <td>12th</td>\n",
              "      <td>Huang High School</td>\n",
              "      <td>90</td>\n",
              "      <td>60</td>\n",
              "      <td>0</td>\n",
              "      <td>District</td>\n",
              "      <td>2917</td>\n",
              "      <td>1910635</td>\n",
              "    </tr>\n",
              "    <tr>\n",
              "      <th>3</th>\n",
              "      <td>3</td>\n",
              "      <td>Richard Scott</td>\n",
              "      <td>M</td>\n",
              "      <td>12th</td>\n",
              "      <td>Huang High School</td>\n",
              "      <td>67</td>\n",
              "      <td>58</td>\n",
              "      <td>0</td>\n",
              "      <td>District</td>\n",
              "      <td>2917</td>\n",
              "      <td>1910635</td>\n",
              "    </tr>\n",
              "    <tr>\n",
              "      <th>4</th>\n",
              "      <td>4</td>\n",
              "      <td>Bonnie Ray</td>\n",
              "      <td>F</td>\n",
              "      <td>9th</td>\n",
              "      <td>Huang High School</td>\n",
              "      <td>97</td>\n",
              "      <td>84</td>\n",
              "      <td>0</td>\n",
              "      <td>District</td>\n",
              "      <td>2917</td>\n",
              "      <td>1910635</td>\n",
              "    </tr>\n",
              "  </tbody>\n",
              "</table>\n",
              "</div>"
            ],
            "text/plain": [
              "   Student ID     student_name gender grade        school_name  reading_score  \\\n",
              "0           0     Paul Bradley      M   9th  Huang High School             66   \n",
              "1           1     Victor Smith      M  12th  Huang High School             94   \n",
              "2           2  Kevin Rodriguez      M  12th  Huang High School             90   \n",
              "3           3    Richard Scott      M  12th  Huang High School             67   \n",
              "4           4       Bonnie Ray      F   9th  Huang High School             97   \n",
              "\n",
              "   math_score  School ID      type  size   budget  \n",
              "0          79          0  District  2917  1910635  \n",
              "1          61          0  District  2917  1910635  \n",
              "2          60          0  District  2917  1910635  \n",
              "3          58          0  District  2917  1910635  \n",
              "4          84          0  District  2917  1910635  "
            ]
          },
          "metadata": {}
        }
      ]
    },
    {
      "cell_type": "code",
      "source": "# Calculate the Totals (Schools and Students)\nschool_count = len(school_data_complete_df[\"school_name\"].unique())\nstudent_count = school_data_complete_df[\"Student ID\"].count()\n\n# Calculate the Total Budget\ntotal_budget = school_data_df[\"budget\"].sum()",
      "metadata": {},
      "execution_count": 7,
      "outputs": []
    },
    {
      "cell_type": "code",
      "source": "# Calculate the Average Scores using the \"clean_student_data\".\naverage_reading_score = school_data_complete_df[\"reading_score\"].mean()\naverage_math_score = school_data_complete_df[\"math_score\"].mean()",
      "metadata": {},
      "execution_count": 8,
      "outputs": []
    },
    {
      "cell_type": "code",
      "source": "# Step 1. Get the number of students that are in ninth grade at Thomas High School.\n# These students have no grades. \n\nninth_thomas_count = student_data_df.loc[(student_data_df[\"grade\"]==\"9th\")&(student_data_df[\"school_name\"]==\"Thomas High School\"),\"student_name\"].count()\n\n# Get the total student count \nstudent_count = school_data_complete_df[\"Student ID\"].count()\n\n\n# Step 2. Subtract the number of students that are in ninth grade at \n# Thomas High School from the total student count to get the new total student count.\n\nCount_minus_ninth_thomas = student_count - ninth_thomas_coun",
      "metadata": {},
      "execution_count": 9,
      "outputs": []
    },
    {
      "cell_type": "code",
      "source": "# Calculate the passing rates using the \"clean_student_data\".\npassing_math_count = school_data_complete_df[(school_data_complete_df[\"math_score\"] >= 70)].count()[\"student_name\"]\npassing_reading_count = school_data_complete_df[(school_data_complete_df[\"reading_score\"] >= 70)].count()[\"student_name\"]",
      "metadata": {},
      "execution_count": 10,
      "outputs": []
    },
    {
      "cell_type": "code",
      "source": "# Step 3. Calculate the passing percentages with the new total student count.\n\npassing_math_percentage = passing_math_count/Count_minus_ninth_thomas*100\npassing_reading_percentage = passing_reading_count/Count_minus_ninth_thomas*100",
      "metadata": {},
      "execution_count": 11,
      "outputs": []
    },
    {
      "cell_type": "code",
      "source": "# Calculate the students who passed both reading and math.\npassing_math_reading = school_data_complete_df[(school_data_complete_df[\"math_score\"] >= 70)\n                                               & (school_data_complete_df[\"reading_score\"] >= 70)]\n\n# Calculate the number of students that passed both reading and math.\noverall_passing_math_reading_count = passing_math_reading[\"student_name\"].count()\n\n\n# Step 4.Calculate the overall passing percentage with new total student count.\noverall_passing_percentage = overall_passing_math_reading_count/Count_minus_ninth_thomas*100\n",
      "metadata": {},
      "execution_count": 12,
      "outputs": []
    },
    {
      "cell_type": "code",
      "source": "# Create a DataFrame\ndistrict_summary_df = pd.DataFrame(\n          [{\"Total Schools\": school_count, \n          \"Total Students\": student_count, \n          \"Total Budget\": total_budget,\n          \"Average Math Score\": average_math_score, \n          \"Average Reading Score\": average_reading_score,\n          \"% Passing Math\": passing_math_percentage,\n         \"% Passing Reading\": passing_reading_percentage,\n        \"% Overall Passing\": overall_passing_percentage}])\n\n\n\n# Format the \"Total Students\" to have the comma for a thousands separator.\ndistrict_summary_df[\"Total Students\"] = district_summary_df[\"Total Students\"].map(\"{:,}\".format)\n# Format the \"Total Budget\" to have the comma for a thousands separator, a decimal separator and a \"$\".\ndistrict_summary_df[\"Total Budget\"] = district_summary_df[\"Total Budget\"].map(\"${:,.2f}\".format)\n# Format the columns.\ndistrict_summary_df[\"Average Math Score\"] = district_summary_df[\"Average Math Score\"].map(\"{:.1f}\".format)\ndistrict_summary_df[\"Average Reading Score\"] = district_summary_df[\"Average Reading Score\"].map(\"{:.1f}\".format)\ndistrict_summary_df[\"% Passing Math\"] = district_summary_df[\"% Passing Math\"].map(\"{:.1f}\".format)\ndistrict_summary_df[\"% Passing Reading\"] = district_summary_df[\"% Passing Reading\"].map(\"{:.1f}\".format)\ndistrict_summary_df[\"% Overall Passing\"] = district_summary_df[\"% Overall Passing\"].map(\"{:.1f}\".format)\n\n# Display the data frame\ndistrict_summary_df",
      "metadata": {
        "trusted": true
      },
      "execution_count": 13,
      "outputs": [
        {
          "ename": "<class 'NameError'>",
          "evalue": "name 'school_count' is not defined",
          "traceback": [
            "\u001b[0;31m---------------------------------------------------------------------------\u001b[0m",
            "\u001b[0;31mNameError\u001b[0m                                 Traceback (most recent call last)",
            "Input \u001b[0;32mIn [13]\u001b[0m, in \u001b[0;36m<cell line: 2>\u001b[0;34m()\u001b[0m\n\u001b[1;32m      1\u001b[0m \u001b[38;5;66;03m# Create a DataFrame\u001b[39;00m\n\u001b[1;32m      2\u001b[0m district_summary_df \u001b[38;5;241m=\u001b[39m pd\u001b[38;5;241m.\u001b[39mDataFrame(\n\u001b[0;32m----> 3\u001b[0m           [{\u001b[38;5;124m\"\u001b[39m\u001b[38;5;124mTotal Schools\u001b[39m\u001b[38;5;124m\"\u001b[39m: \u001b[43mschool_count\u001b[49m, \n\u001b[1;32m      4\u001b[0m           \u001b[38;5;124m\"\u001b[39m\u001b[38;5;124mTotal Students\u001b[39m\u001b[38;5;124m\"\u001b[39m: student_count, \n\u001b[1;32m      5\u001b[0m           \u001b[38;5;124m\"\u001b[39m\u001b[38;5;124mTotal Budget\u001b[39m\u001b[38;5;124m\"\u001b[39m: total_budget,\n\u001b[1;32m      6\u001b[0m           \u001b[38;5;124m\"\u001b[39m\u001b[38;5;124mAverage Math Score\u001b[39m\u001b[38;5;124m\"\u001b[39m: average_math_score, \n\u001b[1;32m      7\u001b[0m           \u001b[38;5;124m\"\u001b[39m\u001b[38;5;124mAverage Reading Score\u001b[39m\u001b[38;5;124m\"\u001b[39m: average_reading_score,\n\u001b[1;32m      8\u001b[0m           \u001b[38;5;124m\"\u001b[39m\u001b[38;5;124m%\u001b[39m\u001b[38;5;124m Passing Math\u001b[39m\u001b[38;5;124m\"\u001b[39m: passing_math_percentage,\n\u001b[1;32m      9\u001b[0m          \u001b[38;5;124m\"\u001b[39m\u001b[38;5;124m%\u001b[39m\u001b[38;5;124m Passing Reading\u001b[39m\u001b[38;5;124m\"\u001b[39m: passing_reading_percentage,\n\u001b[1;32m     10\u001b[0m         \u001b[38;5;124m\"\u001b[39m\u001b[38;5;124m%\u001b[39m\u001b[38;5;124m Overall Passing\u001b[39m\u001b[38;5;124m\"\u001b[39m: overall_passing_percentage}])\n\u001b[1;32m     14\u001b[0m \u001b[38;5;66;03m# Format the \"Total Students\" to have the comma for a thousands separator.\u001b[39;00m\n\u001b[1;32m     15\u001b[0m district_summary_df[\u001b[38;5;124m\"\u001b[39m\u001b[38;5;124mTotal Students\u001b[39m\u001b[38;5;124m\"\u001b[39m] \u001b[38;5;241m=\u001b[39m district_summary_df[\u001b[38;5;124m\"\u001b[39m\u001b[38;5;124mTotal Students\u001b[39m\u001b[38;5;124m\"\u001b[39m]\u001b[38;5;241m.\u001b[39mmap(\u001b[38;5;124m\"\u001b[39m\u001b[38;5;132;01m{:,}\u001b[39;00m\u001b[38;5;124m\"\u001b[39m\u001b[38;5;241m.\u001b[39mformat)\n",
            "\u001b[0;31mNameError\u001b[0m: name 'school_count' is not defined"
          ],
          "output_type": "error"
        }
      ]
    },
    {
      "cell_type": "markdown",
      "source": "##  School Summary",
      "metadata": {}
    },
    {
      "cell_type": "code",
      "source": "# Determine the School Type\nper_school_types = school_data_df.set_index([\"school_name\"])[\"type\"]\n\n# Calculate the total student count.\nper_school_counts = school_data_complete_df[\"school_name\"].value_counts()\n\n# Calculate the total school budget and per capita spending\nper_school_budget = school_data_complete_df.groupby([\"school_name\"]).mean()[\"budget\"]\n# Calculate the per capita spending.\nper_school_capita = per_school_budget / per_school_counts\n\n# Calculate the average test scores.\nper_school_math = school_data_complete_df.groupby([\"school_name\"]).mean()[\"math_score\"]\nper_school_reading = school_data_complete_df.groupby([\"school_name\"]).mean()[\"reading_score\"]\n\n# Calculate the passing scores by creating a filtered DataFrame.\nper_school_passing_math = school_data_complete_df[(school_data_complete_df[\"math_score\"] >= 70)]\nper_school_passing_reading = school_data_complete_df[(school_data_complete_df[\"reading_score\"] >= 70)]\n\n# Calculate the number of students passing math and passing reading by school.\nper_school_passing_math = per_school_passing_math.groupby([\"school_name\"]).count()[\"student_name\"]\nper_school_passing_reading = per_school_passing_reading.groupby([\"school_name\"]).count()[\"student_name\"]\n\n# Calculate the percentage of passing math and reading scores per school.\nper_school_passing_math = per_school_passing_math / per_school_counts * 100\nper_school_passing_reading = per_school_passing_reading / per_school_counts * 100\n\n# Calculate the students who passed both reading and math.\nper_passing_math_reading = school_data_complete_df[(school_data_complete_df[\"reading_score\"] >= 70)\n                                               & (school_data_complete_df[\"math_score\"] >= 70)]\n\n# Calculate the number of students passing math and passing reading by school.\nper_passing_math_reading = per_passing_math_reading.groupby([\"school_name\"]).count()[\"student_name\"]\n\n# Calculate the percentage of passing math and reading scores per school.\nper_overall_passing_percentage = per_passing_math_reading / per_school_counts * 100",
      "metadata": {},
      "execution_count": 15,
      "outputs": []
    },
    {
      "cell_type": "code",
      "source": "# Create the DataFrame\nper_school_summary_df = pd.DataFrame({\n    \"School Type\": per_school_types,\n    \"Total Students\": per_school_counts,\n    \"Total School Budget\": per_school_budget,\n    \"Per Student Budget\": per_school_capita,\n    \"Average Math Score\": per_school_math,\n    \"Average Reading Score\": per_school_reading,\n    \"% Passing Math\": per_school_passing_math,\n    \"% Passing Reading\": per_school_passing_reading,\n    \"% Overall Passing\": per_overall_passing_percentage})\n\n\n# per_school_summary_df.head()",
      "metadata": {},
      "execution_count": 16,
      "outputs": []
    },
    {
      "cell_type": "code",
      "source": "# Format the Total School Budget and the Per Student Budget\nper_school_summary_df[\"Total School Budget\"] = per_school_summary_df[\"Total School Budget\"].map(\"${:,.2f}\".format)\nper_school_summary_df[\"Per Student Budget\"] = per_school_summary_df[\"Per Student Budget\"].map(\"${:,.2f}\".format)\n\n# Display the data frame\nper_school_summary_df",
      "metadata": {},
      "execution_count": 17,
      "outputs": []
    },
    {
      "cell_type": "code",
      "source": "# Step 5.  Get the number of 10th-12th graders from Thomas High School (THS).\ntenth_thru_twelfth_thomas_count = student_data_df.loc[(student_data_df[\"grade\"]!=\"9th\")&(student_data_df[\"school_name\"]==\"Thomas High School\"),\"student_name\"].count()\nprint(tenth_thru_twelfth_thomas_count)\n",
      "metadata": {},
      "execution_count": 18,
      "outputs": []
    },
    {
      "cell_type": "code",
      "source": "# Step 6. Get all the students passing math from THS\nThomas_passing_math = student_data_df.loc[(student_data_df[\"math_score\"]>=70)&(student_data_df[\"school_name\"]==\"Thomas High School\"),\"studen",
      "metadata": {},
      "execution_count": 19,
      "outputs": []
    },
    {
      "cell_type": "code",
      "source": "# Step 7. Get all the students passing reading from THS\nThomas_passing_reading = student_data_df.loc[(student_data_df[\"reading_score\"]>=70)&(student_data_df[\"school_name\"]==\"Thomas High Sc",
      "metadata": {},
      "execution_count": 20,
      "outputs": []
    },
    {
      "cell_type": "code",
      "source": "# Step 8. Get all the students passing math and reading from THS\nThomas_passing_reading_math = student_data_df.loc[(student_data_df[\"reading_score\"]>=70)&(student_data_df[\"math_score\"]>=70)&(student_data_d",
      "metadata": {},
      "execution_count": 21,
      "outputs": []
    },
    {
      "cell_type": "code",
      "source": "# Step 9. Calculate the percentage of 10th-12th grade students passing math from Thomas High School. \nThomas_passing_math_tenth_thru_twelfth = student_data_df.loc[(student_data_df[\"math_score\"]>=70)&(student_data_df[\"school_name\"]==\"Thomas High School\")&(student_data_df[\"grade\"]!=\"9th\"),\"student_name\"].count()\nThomas_passing_math_tenth_thru_twelfth_percentage = Thomas_passing_math_tenth_thru_twelfth/tenth_thru_twelfth_thomas_count*100",
      "metadata": {},
      "execution_count": 22,
      "outputs": []
    },
    {
      "cell_type": "code",
      "source": "# Step 10. Calculate the percentage of 10th-12th grade students passing reading from Thomas High School.\nThomas_passing_reading_tenth_thru_twelfth = student_data_df.loc[(student_data_df[\"reading_score\"]>=70)&(student_data_df[\"school_name\"]==\"Thomas High School\")&(student_data_df[\"grade\"]!=\"9th\"),\"student_name\"].count()\nThomas_passing_reading_tenth_thru_twelfth_percentage = Thomas_passing_reading_tenth_thru_twelfth/tenth_thru_twelfth_thomas_count*100",
      "metadata": {},
      "execution_count": 23,
      "outputs": []
    },
    {
      "cell_type": "code",
      "source": "# Step 11. Calculate the overall passing percentage of 10th-12th grade from Thomas High School. \nThomas_passing_all_tenth_thru_twelfth = student_data_df.loc[(student_data_df[\"reading_score\"]>=70)&(student_data_df[\"math_score\"]>=70)&(student_data_df[\"school_name\"]==\"Thomas High School\")&(student_data_df[\"grade\"]!=\"9th\"),\"student_name\"].count()\nThomas_passing_all_tenth_thru_twelfth_percentage = Thomas_passing_all_tenth_thru_twelfth/tenth_thru_twelfth_thomas_count*100\n",
      "metadata": {},
      "execution_count": 24,
      "outputs": []
    },
    {
      "cell_type": "code",
      "source": "# Step 12. Replace the passing math percent for Thomas High School in the per_school_summary_df.\nper_school_summary_df.loc[\"Thomas High School\",\"% Passing Math\"]=Thomas_passing_math_tenth_thru_twelfth_percentage",
      "metadata": {},
      "execution_count": 25,
      "outputs": []
    },
    {
      "cell_type": "code",
      "source": "# Step 13. Replace the passing reading percentage for Thomas High School in the per_school_summary_df.\nper_school_summary_df.loc[\"Thomas High School\",\"% Passing Reading\"]=Thomas_passing_reading_tenth_thru_twelfth_percentage",
      "metadata": {},
      "execution_count": 26,
      "outputs": []
    },
    {
      "cell_type": "code",
      "source": "# Step 14. Replace the overall passing percentage for Thomas High School in the per_school_summary_df.\nper_school_summary_df.loc[\"Thomas High School\",\"% Overall Passing\"]=Thomas_passing_all_tenth_thru_twelfth_percentage",
      "metadata": {},
      "execution_count": 27,
      "outputs": []
    },
    {
      "cell_type": "code",
      "source": "# per_school_summary_df\nper_school_summary_df",
      "metadata": {
        "trusted": true
      },
      "execution_count": 11,
      "outputs": [
        {
          "ename": "<class 'NameError'>",
          "evalue": "name 'per_school_summary_df' is not defined",
          "traceback": [
            "\u001b[0;31m---------------------------------------------------------------------------\u001b[0m",
            "\u001b[0;31mNameError\u001b[0m                                 Traceback (most recent call last)",
            "Input \u001b[0;32mIn [11]\u001b[0m, in \u001b[0;36m<cell line: 2>\u001b[0;34m()\u001b[0m\n\u001b[1;32m      1\u001b[0m \u001b[38;5;66;03m# per_school_summary_df\u001b[39;00m\n\u001b[0;32m----> 2\u001b[0m \u001b[43mper_school_summary_df\u001b[49m\n",
            "\u001b[0;31mNameError\u001b[0m: name 'per_school_summary_df' is not defined"
          ],
          "output_type": "error"
        }
      ]
    },
    {
      "cell_type": "markdown",
      "source": "## High and Low Performing Schools ",
      "metadata": {}
    },
    {
      "cell_type": "code",
      "source": "# Sort and show top five schools.\n",
      "metadata": {
        "scrolled": true
      },
      "execution_count": 29,
      "outputs": []
    },
    {
      "cell_type": "code",
      "source": "# Sort and show top five schools.\n",
      "metadata": {},
      "execution_count": 30,
      "outputs": []
    },
    {
      "cell_type": "markdown",
      "source": "## Math and Reading Scores by Grade",
      "metadata": {}
    },
    {
      "cell_type": "code",
      "source": "# Create a Series of scores by grade levels using conditionals.\n\n\n# Group each school Series by the school name for the average math score.\n\n\n# Group each school Series by the school name for the average reading score.\n",
      "metadata": {},
      "execution_count": 31,
      "outputs": []
    },
    {
      "cell_type": "code",
      "source": "# Combine each Series for average math scores by school into single data frame.\n",
      "metadata": {},
      "execution_count": 32,
      "outputs": []
    },
    {
      "cell_type": "code",
      "source": "# Combine each Series for average reading scores by school into single data frame.\n",
      "metadata": {},
      "execution_count": 33,
      "outputs": []
    },
    {
      "cell_type": "code",
      "source": "# Format each grade column.\n",
      "metadata": {},
      "execution_count": 34,
      "outputs": []
    },
    {
      "cell_type": "code",
      "source": "# Remove the index.\n\n\n# Display the data frame\n",
      "metadata": {},
      "execution_count": 35,
      "outputs": []
    },
    {
      "cell_type": "code",
      "source": "## Remove the index.\n\n\n# Display the data frame\n",
      "metadata": {},
      "execution_count": 36,
      "outputs": []
    },
    {
      "cell_type": "markdown",
      "source": "## Scores by School Spending",
      "metadata": {}
    },
    {
      "cell_type": "code",
      "source": "# Establish the spending bins and group names.\n\n\n# Categorize spending based on the bins.\n",
      "metadata": {},
      "execution_count": 37,
      "outputs": []
    },
    {
      "cell_type": "code",
      "source": "# Calculate averages for the desired columns. \n",
      "metadata": {},
      "execution_count": 38,
      "outputs": []
    },
    {
      "cell_type": "code",
      "source": "# Create the DataFrame\n",
      "metadata": {},
      "execution_count": 39,
      "outputs": []
    },
    {
      "cell_type": "code",
      "source": "# Format the DataFrame \n",
      "metadata": {},
      "execution_count": 40,
      "outputs": []
    },
    {
      "cell_type": "markdown",
      "source": "## Scores by School Size",
      "metadata": {}
    },
    {
      "cell_type": "code",
      "source": "# Establish the bins.\n\n# Categorize spending based on the bins.\n",
      "metadata": {},
      "execution_count": 41,
      "outputs": []
    },
    {
      "cell_type": "code",
      "source": "# Calculate averages for the desired columns. \n",
      "metadata": {},
      "execution_count": 42,
      "outputs": []
    },
    {
      "cell_type": "code",
      "source": "# Assemble into DataFrame. \n",
      "metadata": {
        "scrolled": true
      },
      "execution_count": 43,
      "outputs": []
    },
    {
      "cell_type": "code",
      "source": "# Format the DataFrame  \n",
      "metadata": {},
      "execution_count": 44,
      "outputs": []
    },
    {
      "cell_type": "markdown",
      "source": "## Scores by School Type",
      "metadata": {}
    },
    {
      "cell_type": "code",
      "source": "# Calculate averages for the desired columns. \n",
      "metadata": {},
      "execution_count": 45,
      "outputs": []
    },
    {
      "cell_type": "code",
      "source": "# Assemble into DataFrame. \n",
      "metadata": {},
      "execution_count": 46,
      "outputs": []
    },
    {
      "cell_type": "code",
      "source": "# # Format the DataFrame \n",
      "metadata": {},
      "execution_count": 47,
      "outputs": []
    },
    {
      "cell_type": "code",
      "source": "",
      "metadata": {},
      "execution_count": null,
      "outputs": []
    }
  ]
}